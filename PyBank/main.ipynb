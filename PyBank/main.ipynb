{
 "cells": [
  {
   "cell_type": "code",
   "execution_count": 69,
   "id": "2e19cf0a-d77d-47c1-af36-862632f60281",
   "metadata": {},
   "outputs": [],
   "source": [
    "#Import from the pathlib library, the main class Path\n",
    "from pathlib import Path\n",
    "import collections\n",
    "import csv"
   ]
  },
  {
   "cell_type": "code",
   "execution_count": 70,
   "id": "fb11486e-8b6d-42cb-8893-86a25af8259b",
   "metadata": {},
   "outputs": [
    {
     "name": "stdout",
     "output_type": "stream",
     "text": [
      "Current Working Directory: C:\\Users\\Home\\Documents\\Monash FinTech\\python-homework\\PyBank\n"
     ]
    }
   ],
   "source": [
    "# Check the current directory where the Python program is executing from\n",
    "print(f\"Current Working Directory: {Path.cwd()}\")"
   ]
  },
  {
   "cell_type": "code",
   "execution_count": 71,
   "id": "2bd5aaca-9476-452b-8dbe-83ff4493d50f",
   "metadata": {},
   "outputs": [
    {
     "name": "stdout",
     "output_type": "stream",
     "text": [
      "Resources\\budget_data.csv\n"
     ]
    }
   ],
   "source": [
    "# Set the input file path\n",
    "csvpath = Path(\"Resources/budget_data.csv\")\n",
    "print(csvpath)"
   ]
  },
  {
   "cell_type": "code",
   "execution_count": 72,
   "id": "a7754504-34c7-4051-bdde-31c03fbfb01d",
   "metadata": {},
   "outputs": [
    {
     "name": "stdout",
     "output_type": "stream",
     "text": [
      "<class 'dict'>\n"
     ]
    }
   ],
   "source": [
    "# Declare a blank dictionary and lists\n",
    "records = {}\n",
    "print(type(records))\n",
    "result_list=[]\n",
    "date_list = []\n",
    "profitnlosses = []\n",
    "average_change = []\n",
    "difference_positive = []\n",
    "difference_negative = []"
   ]
  },
  {
   "cell_type": "code",
   "execution_count": 73,
   "id": "6ae36853-3c44-4dfd-bc90-dba65e761f76",
   "metadata": {},
   "outputs": [],
   "source": [
    "# Declare variables and initialize\n",
    "months_counter = 0\n",
    "profitnlosses_counter = 0"
   ]
  },
  {
   "cell_type": "code",
   "execution_count": 74,
   "id": "fe177f6e-bf11-4c81-960c-8ede064bfb32",
   "metadata": {},
   "outputs": [],
   "source": [
    "def csv_to_dict(filename):\n",
    "    result_list=[]\n",
    "    with open(csvpath,'r') as csvfile:\n",
    "        csvreader = csv.DictReader(csvfile, delimiter=',')\n",
    "        for row in csvreader:\n",
    "            result_list.append(dict(row))\n",
    "    return result_list\n",
    "list_of_dicts = csv_to_dict(csvpath)"
   ]
  },
  {
   "cell_type": "code",
   "execution_count": 76,
   "id": "0ef0ddbd-2d86-4bda-8d16-63ed45794b47",
   "metadata": {},
   "outputs": [
    {
     "name": "stdout",
     "output_type": "stream",
     "text": [
      "[OrderedDict([('Date', 'Jan-2010'), ('Profit/Losses', '867884')]), OrderedDict([('Date', 'Feb-2010'), ('Profit/Losses', '984655')]), OrderedDict([('Date', 'Mar-2010'), ('Profit/Losses', '322013')]), OrderedDict([('Date', 'Apr-2010'), ('Profit/Losses', '-69417')]), OrderedDict([('Date', 'May-2010'), ('Profit/Losses', '310503')]), OrderedDict([('Date', 'Jun-2010'), ('Profit/Losses', '522857')]), OrderedDict([('Date', 'Jul-2010'), ('Profit/Losses', '1033096')]), OrderedDict([('Date', 'Aug-2010'), ('Profit/Losses', '604885')]), OrderedDict([('Date', 'Sep-2010'), ('Profit/Losses', '-216386')]), OrderedDict([('Date', 'Oct-2010'), ('Profit/Losses', '477532')]), OrderedDict([('Date', 'Nov-2010'), ('Profit/Losses', '893810')]), OrderedDict([('Date', 'Dec-2010'), ('Profit/Losses', '-80353')]), OrderedDict([('Date', 'Jan-2011'), ('Profit/Losses', '779806')]), OrderedDict([('Date', 'Feb-2011'), ('Profit/Losses', '-335203')]), OrderedDict([('Date', 'Mar-2011'), ('Profit/Losses', '697845')]), OrderedDict([('Date', 'Apr-2011'), ('Profit/Losses', '793163')]), OrderedDict([('Date', 'May-2011'), ('Profit/Losses', '485070')]), OrderedDict([('Date', 'Jun-2011'), ('Profit/Losses', '584122')]), OrderedDict([('Date', 'Jul-2011'), ('Profit/Losses', '62729')]), OrderedDict([('Date', 'Aug-2011'), ('Profit/Losses', '668179')]), OrderedDict([('Date', 'Sep-2011'), ('Profit/Losses', '899906')]), OrderedDict([('Date', 'Oct-2011'), ('Profit/Losses', '834719')]), OrderedDict([('Date', 'Nov-2011'), ('Profit/Losses', '132003')]), OrderedDict([('Date', 'Dec-2011'), ('Profit/Losses', '309978')]), OrderedDict([('Date', 'Jan-2012'), ('Profit/Losses', '-755566')]), OrderedDict([('Date', 'Feb-2012'), ('Profit/Losses', '1170593')]), OrderedDict([('Date', 'Mar-2012'), ('Profit/Losses', '252788')]), OrderedDict([('Date', 'Apr-2012'), ('Profit/Losses', '1151518')]), OrderedDict([('Date', 'May-2012'), ('Profit/Losses', '817256')]), OrderedDict([('Date', 'Jun-2012'), ('Profit/Losses', '570757')]), OrderedDict([('Date', 'Jul-2012'), ('Profit/Losses', '506702')]), OrderedDict([('Date', 'Aug-2012'), ('Profit/Losses', '-1022534')]), OrderedDict([('Date', 'Sep-2012'), ('Profit/Losses', '475062')]), OrderedDict([('Date', 'Oct-2012'), ('Profit/Losses', '779976')]), OrderedDict([('Date', 'Nov-2012'), ('Profit/Losses', '144175')]), OrderedDict([('Date', 'Dec-2012'), ('Profit/Losses', '542494')]), OrderedDict([('Date', 'Jan-2013'), ('Profit/Losses', '359333')]), OrderedDict([('Date', 'Feb-2013'), ('Profit/Losses', '321469')]), OrderedDict([('Date', 'Mar-2013'), ('Profit/Losses', '67780')]), OrderedDict([('Date', 'Apr-2013'), ('Profit/Losses', '471435')]), OrderedDict([('Date', 'May-2013'), ('Profit/Losses', '565603')]), OrderedDict([('Date', 'Jun-2013'), ('Profit/Losses', '872480')]), OrderedDict([('Date', 'Jul-2013'), ('Profit/Losses', '789480')]), OrderedDict([('Date', 'Aug-2013'), ('Profit/Losses', '999942')]), OrderedDict([('Date', 'Sep-2013'), ('Profit/Losses', '-1196225')]), OrderedDict([('Date', 'Oct-2013'), ('Profit/Losses', '268997')]), OrderedDict([('Date', 'Nov-2013'), ('Profit/Losses', '-687986')]), OrderedDict([('Date', 'Dec-2013'), ('Profit/Losses', '1150461')]), OrderedDict([('Date', 'Jan-2014'), ('Profit/Losses', '682458')]), OrderedDict([('Date', 'Feb-2014'), ('Profit/Losses', '617856')]), OrderedDict([('Date', 'Mar-2014'), ('Profit/Losses', '824098')]), OrderedDict([('Date', 'Apr-2014'), ('Profit/Losses', '581943')]), OrderedDict([('Date', 'May-2014'), ('Profit/Losses', '132864')]), OrderedDict([('Date', 'Jun-2014'), ('Profit/Losses', '448062')]), OrderedDict([('Date', 'Jul-2014'), ('Profit/Losses', '689161')]), OrderedDict([('Date', 'Aug-2014'), ('Profit/Losses', '800701')]), OrderedDict([('Date', 'Sep-2014'), ('Profit/Losses', '1166643')]), OrderedDict([('Date', 'Oct-2014'), ('Profit/Losses', '947333')]), OrderedDict([('Date', 'Nov-2014'), ('Profit/Losses', '578668')]), OrderedDict([('Date', 'Dec-2014'), ('Profit/Losses', '988505')]), OrderedDict([('Date', 'Jan-2015'), ('Profit/Losses', '1139715')]), OrderedDict([('Date', 'Feb-2015'), ('Profit/Losses', '1029471')]), OrderedDict([('Date', 'Mar-2015'), ('Profit/Losses', '687533')]), OrderedDict([('Date', 'Apr-2015'), ('Profit/Losses', '-524626')]), OrderedDict([('Date', 'May-2015'), ('Profit/Losses', '158620')]), OrderedDict([('Date', 'Jun-2015'), ('Profit/Losses', '87795')]), OrderedDict([('Date', 'Jul-2015'), ('Profit/Losses', '423389')]), OrderedDict([('Date', 'Aug-2015'), ('Profit/Losses', '840723')]), OrderedDict([('Date', 'Sep-2015'), ('Profit/Losses', '568529')]), OrderedDict([('Date', 'Oct-2015'), ('Profit/Losses', '332067')]), OrderedDict([('Date', 'Nov-2015'), ('Profit/Losses', '989499')]), OrderedDict([('Date', 'Dec-2015'), ('Profit/Losses', '778237')]), OrderedDict([('Date', 'Jan-2016'), ('Profit/Losses', '650000')]), OrderedDict([('Date', 'Feb-2016'), ('Profit/Losses', '-1100387')]), OrderedDict([('Date', 'Mar-2016'), ('Profit/Losses', '-174946')]), OrderedDict([('Date', 'Apr-2016'), ('Profit/Losses', '757143')]), OrderedDict([('Date', 'May-2016'), ('Profit/Losses', '445709')]), OrderedDict([('Date', 'Jun-2016'), ('Profit/Losses', '712961')]), OrderedDict([('Date', 'Jul-2016'), ('Profit/Losses', '-1163797')]), OrderedDict([('Date', 'Aug-2016'), ('Profit/Losses', '569899')]), OrderedDict([('Date', 'Sep-2016'), ('Profit/Losses', '768450')]), OrderedDict([('Date', 'Oct-2016'), ('Profit/Losses', '102685')]), OrderedDict([('Date', 'Nov-2016'), ('Profit/Losses', '795914')]), OrderedDict([('Date', 'Dec-2016'), ('Profit/Losses', '60988')]), OrderedDict([('Date', 'Jan-2017'), ('Profit/Losses', '138230')]), OrderedDict([('Date', 'Feb-2017'), ('Profit/Losses', '671099')])]\n",
      "OrderedDict([('Date', 'Jan-2010'), ('Profit/Losses', '867884')])\n",
      "OrderedDict([('Date', 'Feb-2010'), ('Profit/Losses', '984655')])\n",
      "OrderedDict([('Date', 'Mar-2010'), ('Profit/Losses', '322013')])\n",
      "OrderedDict([('Date', 'Apr-2010'), ('Profit/Losses', '-69417')])\n",
      "OrderedDict([('Date', 'May-2010'), ('Profit/Losses', '310503')])\n",
      "OrderedDict([('Date', 'Jun-2010'), ('Profit/Losses', '522857')])\n",
      "OrderedDict([('Date', 'Jul-2010'), ('Profit/Losses', '1033096')])\n",
      "OrderedDict([('Date', 'Aug-2010'), ('Profit/Losses', '604885')])\n",
      "OrderedDict([('Date', 'Sep-2010'), ('Profit/Losses', '-216386')])\n",
      "OrderedDict([('Date', 'Oct-2010'), ('Profit/Losses', '477532')])\n",
      "OrderedDict([('Date', 'Nov-2010'), ('Profit/Losses', '893810')])\n",
      "OrderedDict([('Date', 'Dec-2010'), ('Profit/Losses', '-80353')])\n",
      "OrderedDict([('Date', 'Jan-2011'), ('Profit/Losses', '779806')])\n",
      "OrderedDict([('Date', 'Feb-2011'), ('Profit/Losses', '-335203')])\n",
      "OrderedDict([('Date', 'Mar-2011'), ('Profit/Losses', '697845')])\n",
      "OrderedDict([('Date', 'Apr-2011'), ('Profit/Losses', '793163')])\n",
      "OrderedDict([('Date', 'May-2011'), ('Profit/Losses', '485070')])\n",
      "OrderedDict([('Date', 'Jun-2011'), ('Profit/Losses', '584122')])\n",
      "OrderedDict([('Date', 'Jul-2011'), ('Profit/Losses', '62729')])\n",
      "OrderedDict([('Date', 'Aug-2011'), ('Profit/Losses', '668179')])\n",
      "OrderedDict([('Date', 'Sep-2011'), ('Profit/Losses', '899906')])\n",
      "OrderedDict([('Date', 'Oct-2011'), ('Profit/Losses', '834719')])\n",
      "OrderedDict([('Date', 'Nov-2011'), ('Profit/Losses', '132003')])\n",
      "OrderedDict([('Date', 'Dec-2011'), ('Profit/Losses', '309978')])\n",
      "OrderedDict([('Date', 'Jan-2012'), ('Profit/Losses', '-755566')])\n",
      "OrderedDict([('Date', 'Feb-2012'), ('Profit/Losses', '1170593')])\n",
      "OrderedDict([('Date', 'Mar-2012'), ('Profit/Losses', '252788')])\n",
      "OrderedDict([('Date', 'Apr-2012'), ('Profit/Losses', '1151518')])\n",
      "OrderedDict([('Date', 'May-2012'), ('Profit/Losses', '817256')])\n",
      "OrderedDict([('Date', 'Jun-2012'), ('Profit/Losses', '570757')])\n",
      "OrderedDict([('Date', 'Jul-2012'), ('Profit/Losses', '506702')])\n",
      "OrderedDict([('Date', 'Aug-2012'), ('Profit/Losses', '-1022534')])\n",
      "OrderedDict([('Date', 'Sep-2012'), ('Profit/Losses', '475062')])\n",
      "OrderedDict([('Date', 'Oct-2012'), ('Profit/Losses', '779976')])\n",
      "OrderedDict([('Date', 'Nov-2012'), ('Profit/Losses', '144175')])\n",
      "OrderedDict([('Date', 'Dec-2012'), ('Profit/Losses', '542494')])\n",
      "OrderedDict([('Date', 'Jan-2013'), ('Profit/Losses', '359333')])\n",
      "OrderedDict([('Date', 'Feb-2013'), ('Profit/Losses', '321469')])\n",
      "OrderedDict([('Date', 'Mar-2013'), ('Profit/Losses', '67780')])\n",
      "OrderedDict([('Date', 'Apr-2013'), ('Profit/Losses', '471435')])\n",
      "OrderedDict([('Date', 'May-2013'), ('Profit/Losses', '565603')])\n",
      "OrderedDict([('Date', 'Jun-2013'), ('Profit/Losses', '872480')])\n",
      "OrderedDict([('Date', 'Jul-2013'), ('Profit/Losses', '789480')])\n",
      "OrderedDict([('Date', 'Aug-2013'), ('Profit/Losses', '999942')])\n",
      "OrderedDict([('Date', 'Sep-2013'), ('Profit/Losses', '-1196225')])\n",
      "OrderedDict([('Date', 'Oct-2013'), ('Profit/Losses', '268997')])\n",
      "OrderedDict([('Date', 'Nov-2013'), ('Profit/Losses', '-687986')])\n",
      "OrderedDict([('Date', 'Dec-2013'), ('Profit/Losses', '1150461')])\n",
      "OrderedDict([('Date', 'Jan-2014'), ('Profit/Losses', '682458')])\n",
      "OrderedDict([('Date', 'Feb-2014'), ('Profit/Losses', '617856')])\n",
      "OrderedDict([('Date', 'Mar-2014'), ('Profit/Losses', '824098')])\n",
      "OrderedDict([('Date', 'Apr-2014'), ('Profit/Losses', '581943')])\n",
      "OrderedDict([('Date', 'May-2014'), ('Profit/Losses', '132864')])\n",
      "OrderedDict([('Date', 'Jun-2014'), ('Profit/Losses', '448062')])\n",
      "OrderedDict([('Date', 'Jul-2014'), ('Profit/Losses', '689161')])\n",
      "OrderedDict([('Date', 'Aug-2014'), ('Profit/Losses', '800701')])\n",
      "OrderedDict([('Date', 'Sep-2014'), ('Profit/Losses', '1166643')])\n",
      "OrderedDict([('Date', 'Oct-2014'), ('Profit/Losses', '947333')])\n",
      "OrderedDict([('Date', 'Nov-2014'), ('Profit/Losses', '578668')])\n",
      "OrderedDict([('Date', 'Dec-2014'), ('Profit/Losses', '988505')])\n",
      "OrderedDict([('Date', 'Jan-2015'), ('Profit/Losses', '1139715')])\n",
      "OrderedDict([('Date', 'Feb-2015'), ('Profit/Losses', '1029471')])\n",
      "OrderedDict([('Date', 'Mar-2015'), ('Profit/Losses', '687533')])\n",
      "OrderedDict([('Date', 'Apr-2015'), ('Profit/Losses', '-524626')])\n",
      "OrderedDict([('Date', 'May-2015'), ('Profit/Losses', '158620')])\n",
      "OrderedDict([('Date', 'Jun-2015'), ('Profit/Losses', '87795')])\n",
      "OrderedDict([('Date', 'Jul-2015'), ('Profit/Losses', '423389')])\n",
      "OrderedDict([('Date', 'Aug-2015'), ('Profit/Losses', '840723')])\n",
      "OrderedDict([('Date', 'Sep-2015'), ('Profit/Losses', '568529')])\n",
      "OrderedDict([('Date', 'Oct-2015'), ('Profit/Losses', '332067')])\n",
      "OrderedDict([('Date', 'Nov-2015'), ('Profit/Losses', '989499')])\n",
      "OrderedDict([('Date', 'Dec-2015'), ('Profit/Losses', '778237')])\n",
      "OrderedDict([('Date', 'Jan-2016'), ('Profit/Losses', '650000')])\n",
      "OrderedDict([('Date', 'Feb-2016'), ('Profit/Losses', '-1100387')])\n",
      "OrderedDict([('Date', 'Mar-2016'), ('Profit/Losses', '-174946')])\n",
      "OrderedDict([('Date', 'Apr-2016'), ('Profit/Losses', '757143')])\n",
      "OrderedDict([('Date', 'May-2016'), ('Profit/Losses', '445709')])\n",
      "OrderedDict([('Date', 'Jun-2016'), ('Profit/Losses', '712961')])\n",
      "OrderedDict([('Date', 'Jul-2016'), ('Profit/Losses', '-1163797')])\n",
      "OrderedDict([('Date', 'Aug-2016'), ('Profit/Losses', '569899')])\n",
      "OrderedDict([('Date', 'Sep-2016'), ('Profit/Losses', '768450')])\n",
      "OrderedDict([('Date', 'Oct-2016'), ('Profit/Losses', '102685')])\n",
      "OrderedDict([('Date', 'Nov-2016'), ('Profit/Losses', '795914')])\n",
      "OrderedDict([('Date', 'Dec-2016'), ('Profit/Losses', '60988')])\n",
      "OrderedDict([('Date', 'Jan-2017'), ('Profit/Losses', '138230')])\n",
      "OrderedDict([('Date', 'Feb-2017'), ('Profit/Losses', '671099')])\n",
      "<class 'list'>\n",
      "<class 'int'>\n",
      "<class 'int'>\n",
      "\n",
      "```text\n",
      "Financial Analysis\n",
      "----------------------------\n",
      "Total Months: 172\n",
      "Total: $76765156\n",
      "Average  Change: $-1537.38\n",
      "Greatest Increase in Profits: $1926159\n",
      "Greatest Decrease in Profits: $-2196167\n",
      "```\n"
     ]
    }
   ],
   "source": [
    "#csv file read to a dictionary and iterate into lists      \n",
    "with open(csvpath, 'r') as csvfile:\n",
    "    csvreader = csv.DictReader(csvfile) #csv.DictReader class operates like regular read and map the info in each row to a dict    \n",
    "    records = list(csvreader)\n",
    "    print(records)\n",
    "    for row in records: \n",
    "        date_list.append(row['Date'])\n",
    "        profitnlosses.append(row['Profit/Losses'])\n",
    "    \n",
    "    for i in range(0,len(profitnlosses)):\n",
    "        profitnlosses[i]=int(profitnlosses[i])\n",
    "        if i != 0:\n",
    "            j = i-1\n",
    "            difference = profitnlosses[i] - profitnlosses[j]\n",
    "            average_change.append(difference)\n",
    "            if difference > 0:\n",
    "                difference_positive.append(difference)\n",
    "            else:\n",
    "                difference_negative.append(difference)\n",
    "        else:\n",
    "            j = 0\n",
    "\n",
    "            \n",
    "pdiff_max = max(difference_positive)\n",
    "ndiff_min = min(difference_negative)\n",
    "\n",
    "\n",
    "\n",
    "print(type(records))\n",
    "print(type(pdiff_max))\n",
    "print(type(ndiff_min))\n",
    "print(\"\\n```text\")\n",
    "print(\"Financial Analysis\")\n",
    "print(\"----------------------------\")\n",
    "print(f\"Total Months: {len(date_list)}\")\n",
    "print(f\"Total: ${sum(profitnlosses)}\")\n",
    "print(f\"Average  Change: ${round(sum(average_change)/len(average_change),2)}\")\n",
    "print(f\"Greatest Increase in Profits: ${pdiff_max}\")\n",
    "print(f\"Greatest Decrease in Profits: ${ndiff_min}\")\n",
    "print(\"```\")\n",
    "\n"
   ]
  },
  {
   "cell_type": "code",
   "execution_count": null,
   "id": "e8ce424b-62b9-47c9-9c67-dd3a0fc90524",
   "metadata": {},
   "outputs": [],
   "source": []
  }
 ],
 "metadata": {
  "kernelspec": {
   "display_name": "Python 3 (ipykernel)",
   "language": "python",
   "name": "python3"
  },
  "language_info": {
   "codemirror_mode": {
    "name": "ipython",
    "version": 3
   },
   "file_extension": ".py",
   "mimetype": "text/x-python",
   "name": "python",
   "nbconvert_exporter": "python",
   "pygments_lexer": "ipython3",
   "version": "3.7.11"
  }
 },
 "nbformat": 4,
 "nbformat_minor": 5
}
