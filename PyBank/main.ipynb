{
 "cells": [
  {
   "cell_type": "code",
   "execution_count": 76,
   "id": "2e19cf0a-d77d-47c1-af36-862632f60281",
   "metadata": {},
   "outputs": [],
   "source": [
    "#Import from the pathlib library, the main class Path\n",
    "from pathlib import Path\n",
    "from collections import OrderedDict\n",
    "import csv"
   ]
  },
  {
   "cell_type": "code",
   "execution_count": 77,
   "id": "fb11486e-8b6d-42cb-8893-86a25af8259b",
   "metadata": {},
   "outputs": [
    {
     "name": "stdout",
     "output_type": "stream",
     "text": [
      "Current Working Directory: C:\\Users\\Home\\Documents\\Monash FinTech\\python-homework\\PyBank\n"
     ]
    }
   ],
   "source": [
    "# Check the current directory where the Python program is executing from\n",
    "print(f\"Current Working Directory: {Path.cwd()}\")"
   ]
  },
  {
   "cell_type": "code",
   "execution_count": 78,
   "id": "2bd5aaca-9476-452b-8dbe-83ff4493d50f",
   "metadata": {},
   "outputs": [
    {
     "name": "stdout",
     "output_type": "stream",
     "text": [
      "Resources\\budget_data.csv\n"
     ]
    }
   ],
   "source": [
    "# Set the input file path\n",
    "csvpath = Path(\"Resources/budget_data.csv\")\n",
    "print(csvpath)"
   ]
  },
  {
   "cell_type": "code",
   "execution_count": 79,
   "id": "a7754504-34c7-4051-bdde-31c03fbfb01d",
   "metadata": {},
   "outputs": [
    {
     "name": "stdout",
     "output_type": "stream",
     "text": [
      "<class 'dict'>\n"
     ]
    }
   ],
   "source": [
    "# Declare a blank dictionary and lists\n",
    "records = {}\n",
    "print(type(records))\n",
    "result_list=[]\n",
    "date_list = []\n",
    "profitnlosses = []\n",
    "average_change = []\n",
    "difference_positive = []\n",
    "difference_negative = []"
   ]
  },
  {
   "cell_type": "code",
   "execution_count": 80,
   "id": "6ae36853-3c44-4dfd-bc90-dba65e761f76",
   "metadata": {},
   "outputs": [],
   "source": [
    "# Declare variables and initialize\n",
    "months_counter = 0\n",
    "profitnlosses_counter = 0"
   ]
  },
  {
   "cell_type": "code",
   "execution_count": 81,
   "id": "fe177f6e-bf11-4c81-960c-8ede064bfb32",
   "metadata": {},
   "outputs": [],
   "source": [
    "def csv_to_dict(filename):\n",
    "    result_list=[]\n",
    "    with open(csvpath,'r') as csvfile:\n",
    "        csvreader = csv.DictReader(csvfile, delimiter=',')\n",
    "        for row in csvreader:\n",
    "            result_list.append(dict(row))\n",
    "    return result_list\n",
    "list_of_dicts = csv_to_dict(csvpath)"
   ]
  },
  {
   "cell_type": "code",
   "execution_count": 84,
   "id": "0ef0ddbd-2d86-4bda-8d16-63ed45794b47",
   "metadata": {},
   "outputs": [
    {
     "name": "stdout",
     "output_type": "stream",
     "text": [
      "\n",
      "```text\n",
      "Financial Analysis\n",
      "----------------------------\n",
      "Total Months: 86\n",
      "Total: $38382578\n",
      "Average  Change: $-2315.12\n",
      "Greatest Increase in Profits: $1926159\n",
      "Greatest Decrease in Profits: $-2196167\n",
      "```\n"
     ]
    }
   ],
   "source": [
    "#csv file read to a dictionary and iterate into lists      \n",
    "with open(csvpath, 'r') as csvfile:\n",
    "    csvreader = csv.DictReader(csvfile) #csv.DictReader class operates like regular read and map the info in each row to a dict   \n",
    "    for row in csvreader:\n",
    "        date_list.append(row['Date'])\n",
    "        profitnlosses.append(row['Profit/Losses'])\n",
    "    \n",
    "    for i in range(0,len(profitnlosses)):\n",
    "        profitnlosses[i]=int(profitnlosses[i])\n",
    "        if i != 0:\n",
    "            j = i-1\n",
    "            difference = profitnlosses[i] - profitnlosses[j]\n",
    "            average_change.append(difference)\n",
    "            if difference > 0:\n",
    "                difference_positive.append(difference)\n",
    "            else:\n",
    "                difference_negative.append(difference)\n",
    "        else:\n",
    "            j = 0\n",
    "\n",
    "            \n",
    "pdiff_max = max(difference_positive)\n",
    "ndiff_min = min(difference_negative)\n",
    "\n",
    "#Print the analysis to the terminal\n",
    "print(\"\\n```text\")\n",
    "print(\"Financial Analysis\")\n",
    "print(\"----------------------------\")\n",
    "print(f\"Total Months: {len(date_list)}\")\n",
    "print(f\"Total: ${sum(profitnlosses)}\")\n",
    "print(f\"Average  Change: ${round(sum(average_change)/len(average_change),2)}\")\n",
    "print(f\"Greatest Increase in Profits: ${pdiff_max}\")\n",
    "print(f\"Greatest Decrease in Profits: ${ndiff_min}\")\n",
    "print(\"```\")\n",
    "\n",
    "#Result export to text file\n",
    "f = open('Resources/result.txt','w+')\n",
    "#write open('result.txt','w') as f:\n",
    "f.write(f\"Total Months: {len(date_list)}\\n\")\n",
    "f.write(f\"Total: ${sum(profitnlosses)}\\n\")\n",
    "f.write(f\"Average  Change: ${round(sum(average_change)/len(average_change),2)}\\n\")\n",
    "f.write(f\"Greatest Increase in Profits: ${pdiff_max}\\n\")\n",
    "f.write(f\"Greatest Decrease in Profits: ${ndiff_min}\\n\")\n",
    "f.close()  "
   ]
  },
  {
   "cell_type": "code",
   "execution_count": null,
   "id": "e8ce424b-62b9-47c9-9c67-dd3a0fc90524",
   "metadata": {},
   "outputs": [],
   "source": []
  },
  {
   "cell_type": "code",
   "execution_count": null,
   "id": "af45afde-ed30-4fab-af66-771c9721852c",
   "metadata": {},
   "outputs": [],
   "source": []
  }
 ],
 "metadata": {
  "kernelspec": {
   "display_name": "Python 3 (ipykernel)",
   "language": "python",
   "name": "python3"
  },
  "language_info": {
   "codemirror_mode": {
    "name": "ipython",
    "version": 3
   },
   "file_extension": ".py",
   "mimetype": "text/x-python",
   "name": "python",
   "nbconvert_exporter": "python",
   "pygments_lexer": "ipython3",
   "version": "3.7.11"
  }
 },
 "nbformat": 4,
 "nbformat_minor": 5
}
